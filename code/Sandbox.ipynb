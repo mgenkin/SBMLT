{
 "cells": [
  {
   "cell_type": "code",
   "execution_count": 71,
   "metadata": {
    "collapsed": false
   },
   "outputs": [],
   "source": [
    "import numpy as np\n",
    "import cooking_util\n",
    "import csv # to write the submission files"
   ]
  },
  {
   "cell_type": "code",
   "execution_count": 5,
   "metadata": {
    "collapsed": false
   },
   "outputs": [
    {
     "name": "stdout",
     "output_type": "stream",
     "text": [
      "[[ 1.  1.  1. ...,  0.  0.  0.]\n",
      " [ 0.  0.  1. ...,  0.  0.  0.]\n",
      " [ 0.  0.  0. ...,  0.  0.  0.]\n",
      " ..., \n",
      " [ 0.  0.  0. ...,  0.  0.  0.]\n",
      " [ 0.  0.  0. ...,  0.  0.  0.]\n",
      " [ 0.  0.  1. ...,  0.  0.  0.]] [  0.   1.   2. ...,  16.   8.   7.]\n"
     ]
    }
   ],
   "source": [
    "train_set, test_set = cooking_util.load_data()\n",
    "train_set_c, test_set_c = cooking_util.CleanData(train_set, test_set)\n",
    "dm = cooking_util.Data_mapper()\n",
    "X_train, y_train = dm.make_train_arrays(train_set_c)\n",
    "print X_train, y_train"
   ]
  },
  {
   "cell_type": "markdown",
   "metadata": {},
   "source": [
    "Let's blindly try scikit-learn's decision tree"
   ]
  },
  {
   "cell_type": "code",
   "execution_count": 70,
   "metadata": {
    "collapsed": false,
    "scrolled": true
   },
   "outputs": [
    {
     "data": {
      "text/plain": [
       "DecisionTreeClassifier(class_weight=None, criterion='gini', max_depth=None,\n",
       "            max_features=None, max_leaf_nodes=None, min_samples_leaf=1,\n",
       "            min_samples_split=2, min_weight_fraction_leaf=0.0,\n",
       "            random_state=None, splitter='best')"
      ]
     },
     "execution_count": 70,
     "metadata": {},
     "output_type": "execute_result"
    }
   ],
   "source": [
    "from sklearn import tree\n",
    "clf = tree.DecisionTreeClassifier() #initializes the classifier\n",
    "clf.fit(X_train, y_train) # trains the model"
   ]
  },
  {
   "cell_type": "code",
   "execution_count": 72,
   "metadata": {
    "collapsed": true
   },
   "outputs": [],
   "source": [
    "with open('sub_dectree.csv', 'wb') as csvfile: \n",
    "    w = csv.DictWriter(csvfile, [\"id\", \"cuisine\"])\n",
    "    w.writeheader()\n",
    "    _, cuis_dict = dm.get_dicts()\n",
    "    cuis_dict_rev = {v: k for k, v in cuis_dict.items()}\n",
    "    for recipe in test_set:\n",
    "        recipe_vector = dm.make_test_vector(recipe)\n",
    "        pred_cuis = int(clf.predict(recipe_vector)[0])\n",
    "        w.writerow({\"id\":recipe[\"id\"], \"cuisine\":cuis_dict_rev[pred_cuis]})"
   ]
  },
  {
   "cell_type": "markdown",
   "metadata": {},
   "source": [
    "Let's try the same thing with Logistic Regression"
   ]
  },
  {
   "cell_type": "code",
   "execution_count": 73,
   "metadata": {
    "collapsed": false
   },
   "outputs": [
    {
     "data": {
      "text/plain": [
       "LogisticRegression(C=1.0, class_weight=None, dual=False, fit_intercept=True,\n",
       "          intercept_scaling=1, max_iter=100, multi_class='ovr',\n",
       "          penalty='l2', random_state=None, solver='liblinear', tol=0.0001,\n",
       "          verbose=0)"
      ]
     },
     "execution_count": 73,
     "metadata": {},
     "output_type": "execute_result"
    }
   ],
   "source": [
    "from sklearn.linear_model import LogisticRegression\n",
    "clf = LogisticRegression()\n",
    "clf.fit(X_train, y_train)"
   ]
  },
  {
   "cell_type": "code",
   "execution_count": 74,
   "metadata": {
    "collapsed": true
   },
   "outputs": [],
   "source": [
    "with open('sub_logit.csv', 'wb') as csvfile:\n",
    "    w = csv.DictWriter(csvfile, [\"id\", \"cuisine\"])\n",
    "    w.writeheader()\n",
    "    _, cuis_dict = dm.get_dicts()\n",
    "    cuis_dict_rev = {v: k for k, v in cuis_dict.items()}\n",
    "    for recipe in test_set:\n",
    "        recipe_vector = dm.make_test_vector(recipe)\n",
    "        pred_cuis = int(clf.predict(recipe_vector)[0])\n",
    "        w.writerow({\"id\":recipe[\"id\"], \"cuisine\":cuis_dict_rev[pred_cuis]})"
   ]
  }
 ],
 "metadata": {
  "kernelspec": {
   "display_name": "Python 2",
   "language": "python",
   "name": "python2"
  },
  "language_info": {
   "codemirror_mode": {
    "name": "ipython",
    "version": 2
   },
   "file_extension": ".py",
   "mimetype": "text/x-python",
   "name": "python",
   "nbconvert_exporter": "python",
   "pygments_lexer": "ipython2",
   "version": "2.7.6"
  }
 },
 "nbformat": 4,
 "nbformat_minor": 0
}
